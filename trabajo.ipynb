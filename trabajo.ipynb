{
 "cells": [
  {
   "cell_type": "markdown",
   "metadata": {},
   "source": [
    "# Introducción"
   ]
  },
  {
   "cell_type": "markdown",
   "metadata": {},
   "source": [
    "*Preliminares*\n",
    "\n",
    "La ecuación de Schrödinger en el espacio de configuración es, probablemente, una de las ecuaciones que más información nos pueden dar sobre el mundo microscópico. Como toda ecuación diferencial, sólo se conocen soluciones exactas para los potenciales más sencillos. Cuando queremos considerar sistemas más elaborados hay dos sopas: usar métodos perturbativos y aproximaciones por series de potencias, o usar métodos numéricos. \n",
    "\n",
    "Este problema consiste en resolver la ecuación diferencial de segundo orden\n",
    "$$\n",
    "\\left(-\\frac{\\hbar^2}{2m} \\frac{d^2}{dx^2} + V(x) \\right)\\psi(x) = E \\psi(x)\n",
    "$$\n",
    "\n",
    "donde $V(x)$ es el potencial al que está sometida la partícula y $|\\psi(x)|^2$ la probabilidad de encontrarla en la posición $x$.\n",
    "\n",
    "*Método de numerov*\n",
    "\n",
    "El método de Numerov es un método *marchante* que, a pesar de ser relativamente fácil de implementar, puede arrojar resultados muy cercanos a la realidad.\n",
    "\n",
    "Para derivarlo, expandimos en serie de Taylor la versión discretizada de $\\psi$:\n",
    "$$\\psi(x_{\\pm 1})=\\psi(x_0) \\pm \\psi'(x_0) \\Delta + \\frac{1}{2!}\\psi''(x_0)\n",
    "\\Delta^2 \\pm \\frac{1}{3!}\\psi^{(3)}(x_0) \\Delta^3 + \\frac{1}{4!}\\psi^{(4)}(x_0)\n",
    "\\Delta^4 \\pm \\frac{1}{5!}\\psi^{(5)}(x_0) \\Delta^5 + \\mathcal{O}(\\Delta^6)$$\n",
    "\n",
    "Si sumamos estos compas, tenemos que las potencias impares se nos van:\n",
    "$$\\psi(x_{+ 1})+\\psi(x_{- 1}) =2\\psi(x_0)  + \\psi''(x_0)\n",
    "\\Delta^2 + \\frac{1}{12}\\psi^{(4)}(x_0)\n",
    "\\Delta^4 + \\mathcal{O}(\\Delta^6)$$\n",
    "\n",
    "Si definimos $\\delta(g(x))=g(x+\\Delta/2) - g(x-\\Delta/2)$, tenemos que\n",
    "\n",
    "$$\\delta^2 = \\delta(\\delta(g))= g(x+\\Delta)-g(x) - (g(x) - g(x-\\Delta)) $$\n",
    "\n",
    "Si le aplicamos esta chulada a $\\psi$, tenemos que:\n",
    "\n",
    "$$\\delta^2(\\psi_n) = \\psi_{n+1}  + \\psi_{n-1} - 2\\psi_n  = \\psi''(x_n)\n",
    "\\Delta^2 + \\frac{1}{12}\\psi^{(4)}(x_n)\n",
    "\\Delta^4 + \\mathcal{O}(\\Delta^6)$$\n",
    "\n",
    "Ahora vemos cómo se vería la cuarta derivada como función de la segunda\n",
    "derivada:\n",
    "\n",
    "$$\\delta^2(\\psi''_n) = \\psi''_{n+1} + \\psi''_{n-1} - 2\\psi''_n  = \\psi^{(4)}(x_0)\n",
    "\\Delta^2 + \\mathcal{O}(\\Delta^4)$$ y lo enchufamos en la expresión anterior:\n",
    "\n",
    "$$\\delta^2(\\psi_n) = \\psi_{n+1} + \\psi_{n-1} - 2\\psi_n  = \\psi''(x_n)\n",
    "\\Delta^2 + \\frac{1}{12}\\delta^2(\\psi''(x_n))\n",
    "\\Delta^2 + \\mathcal{O}(\\Delta^6)$$\n",
    "\n",
    "De la ec. de Schrödinger tenemos que $\\psi''(x)=f(x)\\psi(x)$, con $f(x) = V(x)-E$, que\n",
    "en lenguaje discreto se ve como $\\psi''_n=f_n\\psi_n$. Podemos usar esto en la\n",
    "ecuación anterior para cambiar poner a todas las segundas derivadas en función\n",
    "de $\\psi$:\n",
    "$$ \\psi_{n+1}+\\psi_{n-1} - 2\\psi_n  = f_{n}\\psi_{n}\n",
    "\\Delta^2 + \\frac{1}{12}(f_{n+1}\\psi_{n+1} + f_{n-1}\\psi_{n-1} - 2f_{n}\\psi_{n})\n",
    "\\Delta^2 + \\mathcal{O}(\\Delta^6)$$\n",
    "\n",
    "Ahora bien, si pasamos los $f_i\\psi_i$, del lado izquierdo, se tiene que\n",
    "\n",
    "$$ \\psi_{n+1}\\left(1 - \\frac{\\Delta^2 f_{n+1}}{12}\\right) + \\psi_{n-1}\\left(1 - \\frac{\\Delta^2 f_{n-1}}{12}\\right) - 2\\psi_n\\left(1 - \\frac{\\Delta^2 f_{n} }{12}\\right)  = f_{n}\\psi_{n}\n",
    "\\Delta^2 + \\mathcal{O}(\\Delta^6)$$ que haciendo $\\phi_n = \\psi_n(1-\\Delta ^2 f_n/12)$ toma la forma\n",
    "\n",
    "$$ \\phi_{n+1} + \\phi_{n-1}- 2\\phi_n  = f_{n}\\psi_{n}\n",
    "\\Delta^2 $$ \n",
    "\n",
    "O bien,\n",
    "$$ \\phi_{n+1} =  2\\phi_n - \\phi_{n-1}  + f_{n}\\psi_{n}\n",
    "\\Delta^2 $$ \n",
    "\n",
    "De esta fórmula vemos que el método de numerov (como todos los métodos numéricos para segundas derivadas) necesita dos puntos iniciales para empezar a trabajar."
   ]
  },
  {
   "cell_type": "markdown",
   "metadata": {},
   "source": [
    "# Un ejemplo sencillo: pozo infinito"
   ]
  },
  {
   "cell_type": "markdown",
   "metadata": {},
   "source": [
    "Consideremos la ecuación de Ezkrotinger con un potencial de la forma \n",
    "$$\n",
    "V(x)\n",
    "\\cases{\n",
    "0, x \\in [0,L]\\\\\n",
    "\\infty, x \\notin [0,L]\n",
    "}\n",
    "$$\n",
    "\n",
    "Aunque computacionalmente no es posible usar valores no acotados, el significado físico del potencial infinito es que ahí la función de onda vale 0, lo cual nos da condiciones de frontera en $x=0$ y $x=L$. De ahora en adelante tomaremos $\\hbar = L=1$ y $m=1/2$ para simplificar las ecuaciones. En ese caso, sabemos que nuestras soluciones son de la forma \n",
    "$$\n",
    "\\psi_n = \\sin(kx); \\quad k = n\\pi \\Rightarrow E=n^2\\pi^2\n",
    "$$"
   ]
  },
  {
   "cell_type": "code",
   "execution_count": null,
   "metadata": {
    "collapsed": true
   },
   "outputs": [],
   "source": [
    "using PyPlot"
   ]
  },
  {
   "cell_type": "code",
   "execution_count": null,
   "metadata": {
    "collapsed": false
   },
   "outputs": [],
   "source": [
    "#Definimos el numerove de izquierda a derecha\n",
    "function numerov_L(N, E, f, dx)\n",
    "    g(x) = (f(x) - E)\n",
    "    Delta = dx\n",
    "    phi = zeros(N)\n",
    "    #definimos los primeros dos elementos\n",
    "    phi[1] = 0\n",
    "    phi[2] = 0.001(1 - Delta^2 * g(0)/12)\n",
    "    #hacemos el paso iterativo\n",
    "    for i in 3:N\n",
    "        phi[i] = 2*phi[i - 1] - phi[i - 2] + Delta^2 * g((i - 1) * Delta) * phi[i - 1] / (1 - Delta^2 * g((i - 1) * Delta)/12)\n",
    "    end\n",
    "    #regresamos el valor de cada ψ_n  en un arreglo\n",
    "    return [phi[i]/((1 - Delta^2 * g((i - 1) * Delta)/12)) for i in 1:N]\n",
    "end\n",
    "#Y la que va hacia la izquierda\n",
    "function numerov_R(N, E, f, dx)\n",
    "    g(x) = (f(x) - E)\n",
    "    Delta = dx\n",
    "    phi = zeros(N)\n",
    "    #definimos los primeros dos elementos\n",
    "    phi[end] = 0\n",
    "    phi[end-1] = 0.001(1 - Delta^2 * g(0)/12)\n",
    "    #hacemos el paso iterativo\n",
    "    for i in reverse(1:N - 2)\n",
    "        phi[i] = 2*phi[i + 1] - phi[i + 2] + Delta^2 * g((i + 1) * Delta) * phi[i + 1] / (1 - Delta^2 * g((i + 1) * Delta)/12)\n",
    "    end\n",
    "    #regresamos el valor de cada ψ_n  en un arreglo\n",
    "    return [phi[i]/((1 - Delta^2 * g((i - 1) * Delta)/12)) for i in 1:N]\n",
    "end\n",
    "\n"
   ]
  },
  {
   "cell_type": "code",
   "execution_count": null,
   "metadata": {
    "collapsed": false
   },
   "outputs": [],
   "source": [
    "#Una pequeña prueba\n",
    "using PyPlot\n",
    "funcion(x) = 0\n",
    "N = 1000\n",
    "dx =1/N\n",
    "E = 5\n",
    "ψ_L = numerov_L(N, E, funcion, dx)\n",
    "ψ_R = numerov_R(N, E, funcion, dx)\n",
    "plot (ψ_L)\n",
    "plot (ψ_R)\n"
   ]
  },
  {
   "cell_type": "markdown",
   "metadata": {},
   "source": [
    "Para el método de disparo no hace falta usar ambas soluciones, pero es reconfortante ver que arrojan resultados similares. "
   ]
  },
  {
   "cell_type": "markdown",
   "metadata": {},
   "source": [
    "Para normalizar necesitamos calcular la integral (discreta) de nuestra función. Esta tendrá la forma $|\\psi|^2=\\sum\\psi_i^2\\Delta$:"
   ]
  },
  {
   "cell_type": "code",
   "execution_count": null,
   "metadata": {
    "collapsed": false
   },
   "outputs": [],
   "source": [
    "function normaliza(phi, N, dx)\n",
    "    norma=0\n",
    "    for i in 1:N\n",
    "        norma += (phi[i])^2 * (dx)#Se va acumulando el valor de la integral\n",
    "    end\n",
    "    return phi ./ norma #Se regresa el arreglo de ψ con cada entrada dividida entre la norma.\n",
    "end"
   ]
  },
  {
   "cell_type": "code",
   "execution_count": null,
   "metadata": {
    "collapsed": false
   },
   "outputs": [],
   "source": [
    "#definimos una función de Bisección:\n",
    "function bisec_chida(a, b, f, tol=1e-6)\n",
    "    #Esta función es recursiva y encuentra una raíz en el intervalo [a,b]\n",
    "    c = (a+b)/2 #toma el punto medio\n",
    "    if abs(f(c))<tol\n",
    "        print(c) #si es el bueno, lo regresa\n",
    "    elseif f(c)*f(a)>=0\n",
    "        return bisec_chida(c,b,f)#si no, checa en uno de las mitades\n",
    "    else\n",
    "        return bisec_chida(a,c,f)#o en la otra\n",
    "    end\n",
    "end"
   ]
  },
  {
   "cell_type": "markdown",
   "metadata": {},
   "source": [
    "Ahora necesitamos una función que se regrese el valor de la solución en el extremo, para ello, le hacemos algunas modificaciones a `numerov_L`."
   ]
  },
  {
   "cell_type": "code",
   "execution_count": null,
   "metadata": {
    "collapsed": false
   },
   "outputs": [],
   "source": [
    "function numerov_3xtr3mo(N, E, f, dx)\n",
    "    g(x) = f(x) - E\n",
    "    Delta = dx\n",
    "    phi = zeros(N)\n",
    "    phi[1] = 0\n",
    "    phi[2] = 0.1(1 - Delta^2 * g(0)/12)\n",
    "    for i in 3:N\n",
    "        phi[i] = 2*phi[i - 1] - phi[i - 2] + Delta^2 * g((i - 1) * Delta) * phi[i - 1] / (1 - Delta^2 * g((i - 1) * Delta)/12)\n",
    "    end\n",
    "    #hasta ahora,  hizo lo mismo, pero aquí sólo regresa el último valor del arreglo\n",
    "    i=N\n",
    "    return phi[i]/((1 - Delta^2 * g((i - 1) * Delta)/12))\n",
    "end"
   ]
  },
  {
   "cell_type": "code",
   "execution_count": null,
   "metadata": {
    "collapsed": false
   },
   "outputs": [],
   "source": [
    "#Juntamos todo en una rutina eficiente y guapa\n",
    "function numerov_shooting(N, E, f, dx)\n",
    "    E_0 = bisec_chida(E-5, E+5, x->numerov_3xtr3mo(N, x, f, dx), 1e-3)\n",
    "    normaliza(numerov_L(N, E_0, f, dx), N, dx)\n",
    "end\n"
   ]
  },
  {
   "cell_type": "code",
   "execution_count": null,
   "metadata": {
    "collapsed": false
   },
   "outputs": [],
   "source": [
    "N=100\n",
    "dx = 1/N\n",
    "numerov_shooting(N, 5, funcion, dx)"
   ]
  },
  {
   "cell_type": "markdown",
   "metadata": {},
   "source": [
    "# Método de igualación"
   ]
  },
  {
   "cell_type": "code",
   "execution_count": null,
   "metadata": {
    "collapsed": false
   },
   "outputs": [],
   "source": [
    "N = 100\n",
    "x = zeros(N);"
   ]
  },
  {
   "cell_type": "code",
   "execution_count": null,
   "metadata": {
    "collapsed": false
   },
   "outputs": [],
   "source": [
    "dx=1e-2"
   ]
  },
  {
   "cell_type": "markdown",
   "metadata": {},
   "source": [
    "## Potencial"
   ]
  },
  {
   "cell_type": "code",
   "execution_count": null,
   "metadata": {
    "collapsed": false
   },
   "outputs": [],
   "source": [
    "V = Float64[]\n",
    "\n",
    "for x in -1:dx:1\n",
    "    push!(V,x^2)\n",
    "end\n",
    "\n",
    "x = [-1:dx:1]\n",
    "plot(x,V)"
   ]
  },
  {
   "cell_type": "markdown",
   "metadata": {},
   "source": [
    "## Funciones a lo pendejo"
   ]
  },
  {
   "cell_type": "markdown",
   "metadata": {},
   "source": [
    "adivinanza"
   ]
  },
  {
   "cell_type": "code",
   "execution_count": null,
   "metadata": {
    "collapsed": false
   },
   "outputs": [],
   "source": [
    "E = 1.4"
   ]
  },
  {
   "cell_type": "code",
   "execution_count": null,
   "metadata": {
    "collapsed": false
   },
   "outputs": [],
   "source": [
    "Ψl = zeros(V)\n",
    "Ψl[1] = 0\n",
    "Ψl[2] = dx"
   ]
  },
  {
   "cell_type": "code",
   "execution_count": null,
   "metadata": {
    "collapsed": false
   },
   "outputs": [],
   "source": [
    "for i in 2:length(V) - 1\n",
    "    Ψl[i+1] = 2Ψl[i] - Ψl[i-1] - 2*(dx)^2*(E-V[i])*Ψl[i]\n",
    "end"
   ]
  },
  {
   "cell_type": "code",
   "execution_count": null,
   "metadata": {
    "collapsed": false
   },
   "outputs": [],
   "source": [
    "Ψr = zeros(V)\n",
    "Ψr[end] = 0\n",
    "Ψr[end-1] = dx"
   ]
  },
  {
   "cell_type": "code",
   "execution_count": null,
   "metadata": {
    "collapsed": false
   },
   "outputs": [],
   "source": [
    "for i in reverse(2:length(V) - 1)\n",
    "    Ψr[i-1] = 2Ψr[i] - Ψr[i+1] - 2*(dx)^2*(E-V[i])*Ψr[i]\n",
    "end"
   ]
  },
  {
   "cell_type": "code",
   "execution_count": null,
   "metadata": {
    "collapsed": false
   },
   "outputs": [],
   "source": [
    "(Ψl[floor(end/2)]-Ψl[floor(end/2)-1])/dx"
   ]
  },
  {
   "cell_type": "code",
   "execution_count": null,
   "metadata": {
    "collapsed": false
   },
   "outputs": [],
   "source": [
    "(Ψr[floor(end/2)]-Ψr[floor(end/2)-1])/dx"
   ]
  },
  {
   "cell_type": "code",
   "execution_count": null,
   "metadata": {
    "collapsed": false
   },
   "outputs": [],
   "source": [
    "function bisec(a,b,paso,f)\n",
    "    if paso == 100\n",
    "        (a + b)/2\n",
    "    elseif sign(f(a)) != sign(f((a+b)/2))\n",
    "        bisec(a,(a + b)/2,paso + 1,f)\n",
    "    elseif sign(f(b)) != sign(f((a + b)/2))\n",
    "        bisec((a + b)/2,b,paso + 1,f)\n",
    "    else\n",
    "        println(\"La función no cambia de signo en $a, $b.\")\n",
    "        println(\"Intenta con otro intervalo.\")\n",
    "    end\n",
    "end"
   ]
  },
  {
   "cell_type": "code",
   "execution_count": null,
   "metadata": {
    "collapsed": false
   },
   "outputs": [],
   "source": [
    "bisec(5.,15.,1,derivs)"
   ]
  },
  {
   "cell_type": "code",
   "execution_count": null,
   "metadata": {
    "collapsed": true
   },
   "outputs": [],
   "source": [
    "using PyPlot"
   ]
  },
  {
   "cell_type": "code",
   "execution_count": null,
   "metadata": {
    "collapsed": false
   },
   "outputs": [],
   "source": [
    "x = linspace(-1,40,40)\n",
    "y = [derivs(u) for u in x]\n",
    "plot(x,y)"
   ]
  },
  {
   "cell_type": "code",
   "execution_count": null,
   "metadata": {
    "collapsed": false
   },
   "outputs": [],
   "source": [
    "function derivs(E)\n",
    "    Ψl = zeros(V)\n",
    "    Ψl[1] = 0\n",
    "    Ψl[2] = dx\n",
    "    Ψr = zeros(V)\n",
    "    Ψr[end] = 0\n",
    "    Ψr[end-1] = dx\n",
    "    for i in 2:length(V) - 1\n",
    "        Ψl[i+1] = 2Ψl[i] - Ψl[i-1] - 2*(dx)^2*(E-V[i])*Ψl[i]\n",
    "    end\n",
    "    for i in reverse(2:length(V) - 1)\n",
    "        Ψr[i-1] = 2Ψr[i] - Ψr[i+1] - 2*(dx)^2*(E-V[i])*Ψr[i]\n",
    "    end\n",
    "    (Ψr[floor(end/2)]-Ψr[floor(end/2)-1])/dx-(Ψl[floor(end/2)]-Ψl[floor(end/2)-1])/dx\n",
    "end"
   ]
  },
  {
   "cell_type": "code",
   "execution_count": null,
   "metadata": {
    "collapsed": false
   },
   "outputs": [],
   "source": [
    "plot(x,Ψl)\n",
    "plot(x,Ψr)"
   ]
  },
  {
   "cell_type": "markdown",
   "metadata": {},
   "source": [
    "Emparejamiento en un punto"
   ]
  },
  {
   "cell_type": "markdown",
   "metadata": {},
   "source": [
    "Emparejamiento en un punto de las __derivadas__"
   ]
  },
  {
   "cell_type": "code",
   "execution_count": null,
   "metadata": {
    "collapsed": false
   },
   "outputs": [],
   "source": [
    "function psis(E,a=1,b=1)\n",
    "    Ψl = zeros(V)\n",
    "    Ψl[1] = 0\n",
    "    Ψl[2] = dx\n",
    "    Ψr = zeros(V)\n",
    "    Ψr[end] = 0\n",
    "    Ψr[end-1] = dx\n",
    "    for i in 2:length(V) - 1\n",
    "        Ψl[i+1] = 2Ψl[i] - Ψl[i-1] - 2*(dx)^2*(E-V[i])*Ψl[i]\n",
    "    end\n",
    "    for i in reverse(2:length(V) - 1)\n",
    "        Ψr[i-1] = 2Ψr[i] - Ψr[i+1] - 2*(dx)^2*(E-V[i])*Ψr[i]\n",
    "    end\n",
    "    plot(x,a.*Ψl)\n",
    "    plot(x,b.*Ψr)\n",
    "end"
   ]
  },
  {
   "cell_type": "code",
   "execution_count": null,
   "metadata": {
    "collapsed": false
   },
   "outputs": [],
   "source": [
    "psis(1.3620447487342902)"
   ]
  },
  {
   "cell_type": "code",
   "execution_count": null,
   "metadata": {
    "collapsed": false
   },
   "outputs": [],
   "source": [
    "psis(31.15239599207232)"
   ]
  },
  {
   "cell_type": "code",
   "execution_count": null,
   "metadata": {
    "collapsed": false
   },
   "outputs": [],
   "source": [
    "psis(11.412492628419486)"
   ]
  },
  {
   "cell_type": "markdown",
   "metadata": {},
   "source": [
    "# Otro potencial"
   ]
  },
  {
   "cell_type": "code",
   "execution_count": null,
   "metadata": {
    "collapsed": false
   },
   "outputs": [],
   "source": [
    "V = Float64[]\n",
    "for x in .9:dx:5\n",
    "    push!(V,4(1/x^12-1/x^6))\n",
    "end\n",
    "\n",
    "x = [.9:dx:5]\n",
    "plot(x,V)\n",
    "psis(.25,1,.6)\n",
    "ylim(-1,2)"
   ]
  },
  {
   "cell_type": "code",
   "execution_count": null,
   "metadata": {
    "collapsed": false
   },
   "outputs": [],
   "source": [
    "x = linspace(0,2,40)\n",
    "y = [derivs(u) for u in x]\n",
    "plot(x,y)"
   ]
  },
  {
   "cell_type": "code",
   "execution_count": null,
   "metadata": {
    "collapsed": false
   },
   "outputs": [],
   "source": [
    "bisec(0.,3,1,derivs)"
   ]
  },
  {
   "cell_type": "code",
   "execution_count": null,
   "metadata": {
    "collapsed": false
   },
   "outputs": [],
   "source": [
    "using Interact"
   ]
  },
  {
   "cell_type": "code",
   "execution_count": null,
   "metadata": {
    "collapsed": false
   },
   "outputs": [],
   "source": [
    "fig = figure()\n",
    "\n",
    "@manipulate for a in 2:0.001:3\n",
    "    withfig(fig) do\n",
    "        psis(a)\n",
    "    end\n",
    "end"
   ]
  },
  {
   "cell_type": "code",
   "execution_count": null,
   "metadata": {
    "collapsed": false
   },
   "outputs": [],
   "source": [
    "psis(0.2829412375635918)"
   ]
  },
  {
   "cell_type": "code",
   "execution_count": null,
   "metadata": {
    "collapsed": true
   },
   "outputs": [],
   "source": []
  }
 ],
 "metadata": {
  "kernelspec": {
   "display_name": "Julia 0.3.9",
   "language": "julia",
   "name": "julia-0.3"
  },
  "language_info": {
   "file_extension": ".jl",
   "mimetype": "application/julia",
   "name": "julia",
   "version": "0.3.9"
  }
 },
 "nbformat": 4,
 "nbformat_minor": 0
}
